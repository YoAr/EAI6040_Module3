{
 "cells": [
  {
   "cell_type": "code",
   "execution_count": 1,
   "metadata": {},
   "outputs": [],
   "source": [
    "# Import pandas\n",
    "import numpy as np\n",
    "#import pandas_profiling\n",
    "from scipy.stats import mode\n",
    "import scipy as sc\n",
    "import pandas as pd\n",
    "import matplotlib.pyplot as plt\n",
    "import seaborn as sns\n",
    "import numpy as np\n",
    "import sklearn\n",
    "import os\n",
    "import statsmodels.api as sm\n",
    "from IPython.core.interactiveshell import InteractiveShell\n",
    "InteractiveShell.ast_node_interactivity = \"all\""
   ]
  },
  {
   "cell_type": "code",
   "execution_count": 2,
   "metadata": {},
   "outputs": [],
   "source": [
    "# Read in dataset\n",
    "candy_df = pd.read_csv(os.getcwd()+os.sep+'Week_4.csv')\n",
    "pd.set_option('display.max_columns', None)"
   ]
  },
  {
   "cell_type": "code",
   "execution_count": null,
   "metadata": {},
   "outputs": [],
   "source": []
  },
  {
   "cell_type": "code",
   "execution_count": 3,
   "metadata": {},
   "outputs": [
    {
     "data": {
      "text/html": [
       "<div>\n",
       "<style scoped>\n",
       "    .dataframe tbody tr th:only-of-type {\n",
       "        vertical-align: middle;\n",
       "    }\n",
       "\n",
       "    .dataframe tbody tr th {\n",
       "        vertical-align: top;\n",
       "    }\n",
       "\n",
       "    .dataframe thead th {\n",
       "        text-align: right;\n",
       "    }\n",
       "</style>\n",
       "<table border=\"1\" class=\"dataframe\">\n",
       "  <thead>\n",
       "    <tr style=\"text-align: right;\">\n",
       "      <th></th>\n",
       "      <th>competitorname</th>\n",
       "      <th>chocolate</th>\n",
       "      <th>fruity</th>\n",
       "      <th>caramel</th>\n",
       "      <th>peanutyalmondy</th>\n",
       "      <th>nougat</th>\n",
       "      <th>crispedricewafer</th>\n",
       "      <th>hard</th>\n",
       "      <th>bar</th>\n",
       "      <th>pluribus</th>\n",
       "      <th>sugarpercent</th>\n",
       "      <th>pricepercent</th>\n",
       "      <th>winpercent</th>\n",
       "    </tr>\n",
       "  </thead>\n",
       "  <tbody>\n",
       "    <tr>\n",
       "      <th>0</th>\n",
       "      <td>100 Grand</td>\n",
       "      <td>1</td>\n",
       "      <td>0</td>\n",
       "      <td>1</td>\n",
       "      <td>0</td>\n",
       "      <td>0</td>\n",
       "      <td>1</td>\n",
       "      <td>0</td>\n",
       "      <td>1</td>\n",
       "      <td>0.0</td>\n",
       "      <td>0.732</td>\n",
       "      <td>0.860</td>\n",
       "      <td>66.971725</td>\n",
       "    </tr>\n",
       "    <tr>\n",
       "      <th>1</th>\n",
       "      <td>3 Musketeers</td>\n",
       "      <td>1</td>\n",
       "      <td>0</td>\n",
       "      <td>0</td>\n",
       "      <td>0</td>\n",
       "      <td>1</td>\n",
       "      <td>0</td>\n",
       "      <td>0</td>\n",
       "      <td>1</td>\n",
       "      <td>0.0</td>\n",
       "      <td>0.604</td>\n",
       "      <td>0.511</td>\n",
       "      <td>67.602936</td>\n",
       "    </tr>\n",
       "    <tr>\n",
       "      <th>2</th>\n",
       "      <td>One dime</td>\n",
       "      <td>0</td>\n",
       "      <td>0</td>\n",
       "      <td>0</td>\n",
       "      <td>0</td>\n",
       "      <td>0</td>\n",
       "      <td>0</td>\n",
       "      <td>0</td>\n",
       "      <td>0</td>\n",
       "      <td>0.0</td>\n",
       "      <td>0.011</td>\n",
       "      <td>0.116</td>\n",
       "      <td>32.261086</td>\n",
       "    </tr>\n",
       "    <tr>\n",
       "      <th>3</th>\n",
       "      <td>One quarter</td>\n",
       "      <td>0</td>\n",
       "      <td>0</td>\n",
       "      <td>0</td>\n",
       "      <td>0</td>\n",
       "      <td>0</td>\n",
       "      <td>0</td>\n",
       "      <td>0</td>\n",
       "      <td>0</td>\n",
       "      <td>0.0</td>\n",
       "      <td>0.011</td>\n",
       "      <td>0.511</td>\n",
       "      <td>46.116505</td>\n",
       "    </tr>\n",
       "    <tr>\n",
       "      <th>4</th>\n",
       "      <td>Air Heads</td>\n",
       "      <td>0</td>\n",
       "      <td>1</td>\n",
       "      <td>0</td>\n",
       "      <td>0</td>\n",
       "      <td>0</td>\n",
       "      <td>0</td>\n",
       "      <td>0</td>\n",
       "      <td>0</td>\n",
       "      <td>0.0</td>\n",
       "      <td>0.906</td>\n",
       "      <td>0.511</td>\n",
       "      <td>52.341465</td>\n",
       "    </tr>\n",
       "  </tbody>\n",
       "</table>\n",
       "</div>"
      ],
      "text/plain": [
       "  competitorname  chocolate  fruity  caramel  peanutyalmondy  nougat  \\\n",
       "0      100 Grand          1       0        1               0       0   \n",
       "1   3 Musketeers          1       0        0               0       1   \n",
       "2       One dime          0       0        0               0       0   \n",
       "3    One quarter          0       0        0               0       0   \n",
       "4      Air Heads          0       1        0               0       0   \n",
       "\n",
       "   crispedricewafer  hard  bar  pluribus  sugarpercent  pricepercent  \\\n",
       "0                 1     0    1       0.0         0.732         0.860   \n",
       "1                 0     0    1       0.0         0.604         0.511   \n",
       "2                 0     0    0       0.0         0.011         0.116   \n",
       "3                 0     0    0       0.0         0.011         0.511   \n",
       "4                 0     0    0       0.0         0.906         0.511   \n",
       "\n",
       "   winpercent  \n",
       "0   66.971725  \n",
       "1   67.602936  \n",
       "2   32.261086  \n",
       "3   46.116505  \n",
       "4   52.341465  "
      ]
     },
     "execution_count": 3,
     "metadata": {},
     "output_type": "execute_result"
    },
    {
     "data": {
      "text/plain": [
       "(85, 13)"
      ]
     },
     "execution_count": 3,
     "metadata": {},
     "output_type": "execute_result"
    }
   ],
   "source": [
    "# Print header\n",
    "candy_df.head()\n",
    "#Dimensions of the data and investigate if there are any duplicate rows\n",
    "candy_df.shape"
   ]
  },
  {
   "cell_type": "code",
   "execution_count": 4,
   "metadata": {},
   "outputs": [
    {
     "name": "stdout",
     "output_type": "stream",
     "text": [
      "<class 'pandas.core.frame.DataFrame'>\n",
      "RangeIndex: 85 entries, 0 to 84\n",
      "Data columns (total 13 columns):\n",
      " #   Column            Non-Null Count  Dtype  \n",
      "---  ------            --------------  -----  \n",
      " 0   competitorname    85 non-null     object \n",
      " 1   chocolate         85 non-null     int64  \n",
      " 2   fruity            85 non-null     int64  \n",
      " 3   caramel           85 non-null     int64  \n",
      " 4   peanutyalmondy    85 non-null     int64  \n",
      " 5   nougat            85 non-null     int64  \n",
      " 6   crispedricewafer  85 non-null     int64  \n",
      " 7   hard              85 non-null     int64  \n",
      " 8   bar               85 non-null     int64  \n",
      " 9   pluribus          61 non-null     float64\n",
      " 10  sugarpercent      85 non-null     float64\n",
      " 11  pricepercent      82 non-null     float64\n",
      " 12  winpercent        85 non-null     float64\n",
      "dtypes: float64(4), int64(8), object(1)\n",
      "memory usage: 8.8+ KB\n"
     ]
    }
   ],
   "source": [
    "# Print info\n",
    "candy_df.info()"
   ]
  },
  {
   "cell_type": "code",
   "execution_count": 5,
   "metadata": {},
   "outputs": [
    {
     "data": {
      "text/plain": [
       "competitorname      85\n",
       "chocolate            2\n",
       "fruity               2\n",
       "caramel              2\n",
       "peanutyalmondy       2\n",
       "nougat               2\n",
       "crispedricewafer     2\n",
       "hard                 2\n",
       "bar                  2\n",
       "pluribus             2\n",
       "sugarpercent        34\n",
       "pricepercent        29\n",
       "winpercent          85\n",
       "dtype: int64"
      ]
     },
     "execution_count": 5,
     "metadata": {},
     "output_type": "execute_result"
    },
    {
     "name": "stdout",
     "output_type": "stream",
     "text": [
      "competitorname       0\n",
      "chocolate            0\n",
      "fruity               0\n",
      "caramel              0\n",
      "peanutyalmondy       0\n",
      "nougat               0\n",
      "crispedricewafer     0\n",
      "hard                 0\n",
      "bar                  0\n",
      "pluribus            24\n",
      "sugarpercent         0\n",
      "pricepercent         3\n",
      "winpercent           0\n",
      "dtype: int64\n"
     ]
    }
   ],
   "source": [
    "# Take a look at unique values in telco\n",
    "candy_df.nunique()\n",
    "# Finding the null values for each column\n",
    "print(candy_df.isnull().sum())"
   ]
  },
  {
   "cell_type": "code",
   "execution_count": 6,
   "metadata": {},
   "outputs": [
    {
     "data": {
      "text/html": [
       "<div>\n",
       "<style scoped>\n",
       "    .dataframe tbody tr th:only-of-type {\n",
       "        vertical-align: middle;\n",
       "    }\n",
       "\n",
       "    .dataframe tbody tr th {\n",
       "        vertical-align: top;\n",
       "    }\n",
       "\n",
       "    .dataframe thead th {\n",
       "        text-align: right;\n",
       "    }\n",
       "</style>\n",
       "<table border=\"1\" class=\"dataframe\">\n",
       "  <thead>\n",
       "    <tr style=\"text-align: right;\">\n",
       "      <th></th>\n",
       "      <th>count</th>\n",
       "      <th>unique</th>\n",
       "      <th>top</th>\n",
       "      <th>freq</th>\n",
       "    </tr>\n",
       "  </thead>\n",
       "  <tbody>\n",
       "    <tr>\n",
       "      <th>competitorname</th>\n",
       "      <td>85</td>\n",
       "      <td>85</td>\n",
       "      <td>Skittles original</td>\n",
       "      <td>1</td>\n",
       "    </tr>\n",
       "  </tbody>\n",
       "</table>\n",
       "</div>"
      ],
      "text/plain": [
       "               count unique                top freq\n",
       "competitorname    85     85  Skittles original    1"
      ]
     },
     "execution_count": 6,
     "metadata": {},
     "output_type": "execute_result"
    },
    {
     "name": "stdout",
     "output_type": "stream",
     "text": [
      "           competitorname  chocolate     fruity    caramel  peanutyalmondy  \\\n",
      "count                  85  85.000000  85.000000  85.000000       85.000000   \n",
      "unique                 85        NaN        NaN        NaN             NaN   \n",
      "top     Skittles original        NaN        NaN        NaN             NaN   \n",
      "freq                    1        NaN        NaN        NaN             NaN   \n",
      "mean                  NaN   0.435294   0.447059   0.164706        0.164706   \n",
      "std                   NaN   0.498738   0.500140   0.373116        0.373116   \n",
      "min                   NaN   0.000000   0.000000   0.000000        0.000000   \n",
      "25%                   NaN   0.000000   0.000000   0.000000        0.000000   \n",
      "50%                   NaN   0.000000   0.000000   0.000000        0.000000   \n",
      "75%                   NaN   1.000000   1.000000   0.000000        0.000000   \n",
      "max                   NaN   1.000000   1.000000   1.000000        1.000000   \n",
      "\n",
      "           nougat  crispedricewafer       hard        bar   pluribus  \\\n",
      "count   85.000000         85.000000  85.000000  85.000000  61.000000   \n",
      "unique        NaN               NaN        NaN        NaN        NaN   \n",
      "top           NaN               NaN        NaN        NaN        NaN   \n",
      "freq          NaN               NaN        NaN        NaN        NaN   \n",
      "mean     0.082353          0.082353   0.176471   0.247059   0.475410   \n",
      "std      0.276533          0.276533   0.383482   0.433861   0.503539   \n",
      "min      0.000000          0.000000   0.000000   0.000000   0.000000   \n",
      "25%      0.000000          0.000000   0.000000   0.000000   0.000000   \n",
      "50%      0.000000          0.000000   0.000000   0.000000   0.000000   \n",
      "75%      0.000000          0.000000   0.000000   0.000000   1.000000   \n",
      "max      1.000000          1.000000   1.000000   1.000000   1.000000   \n",
      "\n",
      "        sugarpercent  pricepercent  winpercent  \n",
      "count      85.000000     82.000000   85.000000  \n",
      "unique           NaN           NaN         NaN  \n",
      "top              NaN           NaN         NaN  \n",
      "freq             NaN           NaN         NaN  \n",
      "mean        0.478647      0.467195   50.316764  \n",
      "std         0.282778      0.283934   14.714357  \n",
      "min         0.011000      0.011000   22.445341  \n",
      "25%         0.220000      0.258000   39.141056  \n",
      "50%         0.465000      0.465000   47.829754  \n",
      "75%         0.732000      0.651000   59.863998  \n",
      "max         0.988000      0.976000   84.180290  \n"
     ]
    }
   ],
   "source": [
    "#Calculate summary statistics\n",
    "summary = candy_df.describe(include=['object'])\n",
    "summary = summary.transpose()\n",
    "summary.head()\n",
    "print(candy_df.describe(include='all'))"
   ]
  },
  {
   "cell_type": "code",
   "execution_count": 7,
   "metadata": {},
   "outputs": [
    {
     "ename": "NameError",
     "evalue": "name 'pandas_profiling' is not defined",
     "output_type": "error",
     "traceback": [
      "\u001b[1;31m---------------------------------------------------------------------------\u001b[0m",
      "\u001b[1;31mNameError\u001b[0m                                 Traceback (most recent call last)",
      "\u001b[1;32m<ipython-input-7-57520f543a44>\u001b[0m in \u001b[0;36m<module>\u001b[1;34m\u001b[0m\n\u001b[1;32m----> 1\u001b[1;33m \u001b[0mpandas_profiling\u001b[0m\u001b[1;33m.\u001b[0m\u001b[0mProfileReport\u001b[0m\u001b[1;33m(\u001b[0m\u001b[0mcandy_df\u001b[0m\u001b[1;33m)\u001b[0m\u001b[1;33m\u001b[0m\u001b[1;33m\u001b[0m\u001b[0m\n\u001b[0m",
      "\u001b[1;31mNameError\u001b[0m: name 'pandas_profiling' is not defined"
     ]
    }
   ],
   "source": [
    "pandas_profiling.ProfileReport(candy_df)"
   ]
  },
  {
   "cell_type": "code",
   "execution_count": 11,
   "metadata": {},
   "outputs": [],
   "source": [
    "candy_df['pricepercent'].fillna((candy_df['pricepercent'].mean()), inplace=True)\n",
    "# candy_df['pricepercent'].value_counts().plot()"
   ]
  },
  {
   "cell_type": "code",
   "execution_count": 12,
   "metadata": {},
   "outputs": [],
   "source": [
    "candy_df.drop('pluribus', axis = 1, inplace = True) #dropping the column as it has 28.3% of missing values\n",
    "#Imputation here would cause the column to be skewed as the range is 0 and 1"
   ]
  },
  {
   "cell_type": "code",
   "execution_count": 13,
   "metadata": {},
   "outputs": [
    {
     "name": "stdout",
     "output_type": "stream",
     "text": [
      "competitorname      0\n",
      "chocolate           0\n",
      "fruity              0\n",
      "caramel             0\n",
      "peanutyalmondy      0\n",
      "nougat              0\n",
      "crispedricewafer    0\n",
      "hard                0\n",
      "bar                 0\n",
      "sugarpercent        0\n",
      "pricepercent        0\n",
      "winpercent          0\n",
      "dtype: int64\n"
     ]
    }
   ],
   "source": [
    "# Finding the null values for each column\n",
    "print(candy_df.isnull().sum())"
   ]
  },
  {
   "cell_type": "code",
   "execution_count": 14,
   "metadata": {},
   "outputs": [
    {
     "data": {
      "text/plain": [
       "<AxesSubplot:>"
      ]
     },
     "execution_count": 14,
     "metadata": {},
     "output_type": "execute_result"
    },
    {
     "data": {
      "image/png": "[encoded data removed]",
      "text/plain": [
       "<Figure size 432x288 with 1 Axes>"
      ]
     },
     "metadata": {
      "needs_background": "light"
     },
     "output_type": "display_data"
    }
   ],
   "source": [
    "candy_df.boxplot(column=['sugarpercent'])"
   ]
  },
  {
   "cell_type": "code",
   "execution_count": 15,
   "metadata": {},
   "outputs": [
    {
     "data": {
      "text/plain": [
       "<AxesSubplot:>"
      ]
     },
     "execution_count": 15,
     "metadata": {},
     "output_type": "execute_result"
    },
    {
     "data": {
      "image/png": "[encoded data removed]",
      "text/plain": [
       "<Figure size 432x288 with 1 Axes>"
      ]
     },
     "metadata": {
      "needs_background": "light"
     },
     "output_type": "display_data"
    }
   ],
   "source": [
    "candy_df.boxplot(column=['pricepercent'])"
   ]
  },
  {
   "cell_type": "code",
   "execution_count": 16,
   "metadata": {},
   "outputs": [
    {
     "data": {
      "text/plain": [
       "<AxesSubplot:>"
      ]
     },
     "execution_count": 16,
     "metadata": {},
     "output_type": "execute_result"
    },
    {
     "data": {
      "image/png": "[encoded data removed]",
      "text/plain": [
       "<Figure size 432x288 with 1 Axes>"
      ]
     },
     "metadata": {
      "needs_background": "light"
     },
     "output_type": "display_data"
    }
   ],
   "source": [
    "candy_df.boxplot(column=['winpercent'])"
   ]
  },
  {
   "cell_type": "code",
   "execution_count": 17,
   "metadata": {},
   "outputs": [],
   "source": [
    "candy_df['sweetness'] = candy_df['chocolate']+candy_df['fruity']+candy_df['peanutyalmondy']+candy_df['caramel']+candy_df['nougat']"
   ]
  },
  {
   "cell_type": "code",
   "execution_count": 18,
   "metadata": {},
   "outputs": [
    {
     "data": {
      "text/plain": [
       "count    85.000000\n",
       "mean      1.294118\n",
       "std       0.753145\n",
       "min       0.000000\n",
       "25%       1.000000\n",
       "50%       1.000000\n",
       "75%       2.000000\n",
       "max       4.000000\n",
       "Name: sweetness, dtype: float64"
      ]
     },
     "execution_count": 18,
     "metadata": {},
     "output_type": "execute_result"
    }
   ],
   "source": [
    "candy_df['sweetness'].describe()"
   ]
  },
  {
   "cell_type": "code",
   "execution_count": 19,
   "metadata": {},
   "outputs": [],
   "source": [
    "sweet_df = pd.DataFrame()\n",
    "sweet_df['sweetness'] = candy_df['sweetness']\n",
    "sweet_df['sugarpercent'] = candy_df['sugarpercent']"
   ]
  },
  {
   "cell_type": "code",
   "execution_count": 20,
   "metadata": {},
   "outputs": [
    {
     "data": {
      "text/html": [
       "<div>\n",
       "<style scoped>\n",
       "    .dataframe tbody tr th:only-of-type {\n",
       "        vertical-align: middle;\n",
       "    }\n",
       "\n",
       "    .dataframe tbody tr th {\n",
       "        vertical-align: top;\n",
       "    }\n",
       "\n",
       "    .dataframe thead th {\n",
       "        text-align: right;\n",
       "    }\n",
       "</style>\n",
       "<table border=\"1\" class=\"dataframe\">\n",
       "  <thead>\n",
       "    <tr style=\"text-align: right;\">\n",
       "      <th></th>\n",
       "      <th>sweetness</th>\n",
       "      <th>sugarpercent</th>\n",
       "    </tr>\n",
       "  </thead>\n",
       "  <tbody>\n",
       "    <tr>\n",
       "      <th>2</th>\n",
       "      <td>0</td>\n",
       "      <td>0.011</td>\n",
       "    </tr>\n",
       "    <tr>\n",
       "      <th>3</th>\n",
       "      <td>0</td>\n",
       "      <td>0.011</td>\n",
       "    </tr>\n",
       "    <tr>\n",
       "      <th>51</th>\n",
       "      <td>2</td>\n",
       "      <td>0.034</td>\n",
       "    </tr>\n",
       "    <tr>\n",
       "      <th>30</th>\n",
       "      <td>1</td>\n",
       "      <td>0.046</td>\n",
       "    </tr>\n",
       "    <tr>\n",
       "      <th>12</th>\n",
       "      <td>1</td>\n",
       "      <td>0.046</td>\n",
       "    </tr>\n",
       "    <tr>\n",
       "      <th>...</th>\n",
       "      <td>...</td>\n",
       "      <td>...</td>\n",
       "    </tr>\n",
       "    <tr>\n",
       "      <th>61</th>\n",
       "      <td>1</td>\n",
       "      <td>0.941</td>\n",
       "    </tr>\n",
       "    <tr>\n",
       "      <th>60</th>\n",
       "      <td>1</td>\n",
       "      <td>0.941</td>\n",
       "    </tr>\n",
       "    <tr>\n",
       "      <th>38</th>\n",
       "      <td>2</td>\n",
       "      <td>0.965</td>\n",
       "    </tr>\n",
       "    <tr>\n",
       "      <th>70</th>\n",
       "      <td>1</td>\n",
       "      <td>0.965</td>\n",
       "    </tr>\n",
       "    <tr>\n",
       "      <th>54</th>\n",
       "      <td>2</td>\n",
       "      <td>0.988</td>\n",
       "    </tr>\n",
       "  </tbody>\n",
       "</table>\n",
       "<p>85 rows × 2 columns</p>\n",
       "</div>"
      ],
      "text/plain": [
       "    sweetness  sugarpercent\n",
       "2           0         0.011\n",
       "3           0         0.011\n",
       "51          2         0.034\n",
       "30          1         0.046\n",
       "12          1         0.046\n",
       "..        ...           ...\n",
       "61          1         0.941\n",
       "60          1         0.941\n",
       "38          2         0.965\n",
       "70          1         0.965\n",
       "54          2         0.988\n",
       "\n",
       "[85 rows x 2 columns]"
      ]
     },
     "execution_count": 20,
     "metadata": {},
     "output_type": "execute_result"
    }
   ],
   "source": [
    "sweet_df.sort_values(by=['sugarpercent'])"
   ]
  },
  {
   "cell_type": "code",
   "execution_count": 21,
   "metadata": {},
   "outputs": [],
   "source": [
    "sweet_df['sugarpercent'] = sweet_df['sugarpercent']*100"
   ]
  },
  {
   "cell_type": "code",
   "execution_count": 22,
   "metadata": {},
   "outputs": [
    {
     "data": {
      "text/plain": [
       "<BarContainer object of 85 artists>"
      ]
     },
     "execution_count": 22,
     "metadata": {},
     "output_type": "execute_result"
    },
    {
     "data": {
      "text/plain": [
       "Text(0.5, 1.0, 'Where does the sweetness come from')"
      ]
     },
     "execution_count": 22,
     "metadata": {},
     "output_type": "execute_result"
    },
    {
     "data": {
      "text/plain": [
       "Text(0.5, 0, 'Sweeteners')"
      ]
     },
     "execution_count": 22,
     "metadata": {},
     "output_type": "execute_result"
    },
    {
     "data": {
      "text/plain": [
       "Text(0, 0.5, 'Sugar percent')"
      ]
     },
     "execution_count": 22,
     "metadata": {},
     "output_type": "execute_result"
    },
    {
     "data": {
      "image/png": "[encoded data removed]",
      "text/plain": [
       "<Figure size 432x288 with 1 Axes>"
      ]
     },
     "metadata": {
      "needs_background": "light"
     },
     "output_type": "display_data"
    }
   ],
   "source": [
    "plt.bar(sweet_df['sweetness'],sweet_df['sugarpercent'])\n",
    "plt.title(\"Where does the sweetness come from\")\n",
    "plt.xlabel(\"Sweeteners\")\n",
    "plt.ylabel(\"Sugar percent\")\n",
    "plt.show()"
   ]
  },
  {
   "cell_type": "code",
   "execution_count": 23,
   "metadata": {},
   "outputs": [],
   "source": [
    "chocolate_df = pd.DataFrame()\n",
    "chocolate_df['chocolate'] = candy_df['chocolate']\n",
    "chocolate_df['winpercent'] = candy_df['winpercent']"
   ]
  },
  {
   "cell_type": "code",
   "execution_count": 24,
   "metadata": {},
   "outputs": [
    {
     "data": {
      "text/plain": [
       "<BarContainer object of 85 artists>"
      ]
     },
     "execution_count": 24,
     "metadata": {},
     "output_type": "execute_result"
    },
    {
     "data": {
      "text/plain": [
       "Text(0.5, 1.0, 'Impact of chocolate')"
      ]
     },
     "execution_count": 24,
     "metadata": {},
     "output_type": "execute_result"
    },
    {
     "data": {
      "text/plain": [
       "Text(0.5, 0, 'Chocolate')"
      ]
     },
     "execution_count": 24,
     "metadata": {},
     "output_type": "execute_result"
    },
    {
     "data": {
      "text/plain": [
       "Text(0, 0.5, 'Win percent')"
      ]
     },
     "execution_count": 24,
     "metadata": {},
     "output_type": "execute_result"
    },
    {
     "data": {
      "image/png": "[encoded data removed]",
      "text/plain": [
       "<Figure size 432x288 with 1 Axes>"
      ]
     },
     "metadata": {
      "needs_background": "light"
     },
     "output_type": "display_data"
    }
   ],
   "source": [
    "plt.bar(chocolate_df['chocolate'],chocolate_df['winpercent'],alpha=1)\n",
    "plt.title(\"Impact of chocolate\")\n",
    "plt.xlabel(\"Chocolate\")\n",
    "plt.ylabel(\"Win percent\")\n",
    "plt.show()"
   ]
  },
  {
   "cell_type": "code",
   "execution_count": 25,
   "metadata": {},
   "outputs": [],
   "source": [
    "# Get all features\n",
    "features = [column_name for column_name in candy_df.columns if column_name != 'winpercent']\n",
    "\n",
    "# Get all categorical features\n",
    "categorical = [column_name for column_name in features if candy_df[column_name].dtype == 'object']\n",
    "\n",
    "# Get all numeric columns\n",
    "numeric = [column_name for column_name in features if column_name not in categorical]"
   ]
  },
  {
   "cell_type": "code",
   "execution_count": 26,
   "metadata": {},
   "outputs": [
    {
     "data": {
      "text/plain": [
       "<BarContainer object of 85 artists>"
      ]
     },
     "execution_count": 26,
     "metadata": {},
     "output_type": "execute_result"
    },
    {
     "data": {
      "text/plain": [
       "Text(0.5, 1.0, 'Impact of chocolate')"
      ]
     },
     "execution_count": 26,
     "metadata": {},
     "output_type": "execute_result"
    },
    {
     "data": {
      "text/plain": [
       "Text(0.5, 0, 'chocolate')"
      ]
     },
     "execution_count": 26,
     "metadata": {},
     "output_type": "execute_result"
    },
    {
     "data": {
      "text/plain": [
       "Text(0, 0.5, 'Win percent')"
      ]
     },
     "execution_count": 26,
     "metadata": {},
     "output_type": "execute_result"
    },
    {
     "data": {
      "image/png": "[encoded data removed]",
      "text/plain": [
       "<Figure size 432x288 with 1 Axes>"
      ]
     },
     "metadata": {
      "needs_background": "light"
     },
     "output_type": "display_data"
    },
    {
     "data": {
      "text/plain": [
       "<BarContainer object of 85 artists>"
      ]
     },
     "execution_count": 26,
     "metadata": {},
     "output_type": "execute_result"
    },
    {
     "data": {
      "text/plain": [
       "Text(0.5, 1.0, 'Impact of fruity')"
      ]
     },
     "execution_count": 26,
     "metadata": {},
     "output_type": "execute_result"
    },
    {
     "data": {
      "text/plain": [
       "Text(0.5, 0, 'fruity')"
      ]
     },
     "execution_count": 26,
     "metadata": {},
     "output_type": "execute_result"
    },
    {
     "data": {
      "text/plain": [
       "Text(0, 0.5, 'Win percent')"
      ]
     },
     "execution_count": 26,
     "metadata": {},
     "output_type": "execute_result"
    },
    {
     "data": {
      "image/png": "[encoded data removed]",
      "text/plain": [
       "<Figure size 432x288 with 1 Axes>"
      ]
     },
     "metadata": {
      "needs_background": "light"
     },
     "output_type": "display_data"
    },
    {
     "data": {
      "text/plain": [
       "<BarContainer object of 85 artists>"
      ]
     },
     "execution_count": 26,
     "metadata": {},
     "output_type": "execute_result"
    },
    {
     "data": {
      "text/plain": [
       "Text(0.5, 1.0, 'Impact of caramel')"
      ]
     },
     "execution_count": 26,
     "metadata": {},
     "output_type": "execute_result"
    },
    {
     "data": {
      "text/plain": [
       "Text(0.5, 0, 'caramel')"
      ]
     },
     "execution_count": 26,
     "metadata": {},
     "output_type": "execute_result"
    },
    {
     "data": {
      "text/plain": [
       "Text(0, 0.5, 'Win percent')"
      ]
     },
     "execution_count": 26,
     "metadata": {},
     "output_type": "execute_result"
    },
    {
     "data": {
      "image/png": "[encoded data removed]",
      "text/plain": [
       "<Figure size 432x288 with 1 Axes>"
      ]
     },
     "metadata": {
      "needs_background": "light"
     },
     "output_type": "display_data"
    },
    {
     "data": {
      "text/plain": [
       "<BarContainer object of 85 artists>"
      ]
     },
     "execution_count": 26,
     "metadata": {},
     "output_type": "execute_result"
    },
    {
     "data": {
      "text/plain": [
       "Text(0.5, 1.0, 'Impact of peanutyalmondy')"
      ]
     },
     "execution_count": 26,
     "metadata": {},
     "output_type": "execute_result"
    },
    {
     "data": {
      "text/plain": [
       "Text(0.5, 0, 'peanutyalmondy')"
      ]
     },
     "execution_count": 26,
     "metadata": {},
     "output_type": "execute_result"
    },
    {
     "data": {
      "text/plain": [
       "Text(0, 0.5, 'Win percent')"
      ]
     },
     "execution_count": 26,
     "metadata": {},
     "output_type": "execute_result"
    },
    {
     "data": {
      "image/png": "[encoded data removed]",
      "text/plain": [
       "<Figure size 432x288 with 1 Axes>"
      ]
     },
     "metadata": {
      "needs_background": "light"
     },
     "output_type": "display_data"
    },
    {
     "data": {
      "text/plain": [
       "<BarContainer object of 85 artists>"
      ]
     },
     "execution_count": 26,
     "metadata": {},
     "output_type": "execute_result"
    },
    {
     "data": {
      "text/plain": [
       "Text(0.5, 1.0, 'Impact of nougat')"
      ]
     },
     "execution_count": 26,
     "metadata": {},
     "output_type": "execute_result"
    },
    {
     "data": {
      "text/plain": [
       "Text(0.5, 0, 'nougat')"
      ]
     },
     "execution_count": 26,
     "metadata": {},
     "output_type": "execute_result"
    },
    {
     "data": {
      "text/plain": [
       "Text(0, 0.5, 'Win percent')"
      ]
     },
     "execution_count": 26,
     "metadata": {},
     "output_type": "execute_result"
    },
    {
     "data": {
      "image/png": "[encoded data removed]",
      "text/plain": [
       "<Figure size 432x288 with 1 Axes>"
      ]
     },
     "metadata": {
      "needs_background": "light"
     },
     "output_type": "display_data"
    },
    {
     "data": {
      "text/plain": [
       "<BarContainer object of 85 artists>"
      ]
     },
     "execution_count": 26,
     "metadata": {},
     "output_type": "execute_result"
    },
    {
     "data": {
      "text/plain": [
       "Text(0.5, 1.0, 'Impact of crispedricewafer')"
      ]
     },
     "execution_count": 26,
     "metadata": {},
     "output_type": "execute_result"
    },
    {
     "data": {
      "text/plain": [
       "Text(0.5, 0, 'crispedricewafer')"
      ]
     },
     "execution_count": 26,
     "metadata": {},
     "output_type": "execute_result"
    },
    {
     "data": {
      "text/plain": [
       "Text(0, 0.5, 'Win percent')"
      ]
     },
     "execution_count": 26,
     "metadata": {},
     "output_type": "execute_result"
    },
    {
     "data": {
      "image/png": "[encoded data removed]",
      "text/plain": [
       "<Figure size 432x288 with 1 Axes>"
      ]
     },
     "metadata": {
      "needs_background": "light"
     },
     "output_type": "display_data"
    },
    {
     "data": {
      "text/plain": [
       "<BarContainer object of 85 artists>"
      ]
     },
     "execution_count": 26,
     "metadata": {},
     "output_type": "execute_result"
    },
    {
     "data": {
      "text/plain": [
       "Text(0.5, 1.0, 'Impact of hard')"
      ]
     },
     "execution_count": 26,
     "metadata": {},
     "output_type": "execute_result"
    },
    {
     "data": {
      "text/plain": [
       "Text(0.5, 0, 'hard')"
      ]
     },
     "execution_count": 26,
     "metadata": {},
     "output_type": "execute_result"
    },
    {
     "data": {
      "text/plain": [
       "Text(0, 0.5, 'Win percent')"
      ]
     },
     "execution_count": 26,
     "metadata": {},
     "output_type": "execute_result"
    },
    {
     "data": {
      "image/png": "[encoded data removed]",
      "text/plain": [
       "<Figure size 432x288 with 1 Axes>"
      ]
     },
     "metadata": {
      "needs_background": "light"
     },
     "output_type": "display_data"
    },
    {
     "data": {
      "text/plain": [
       "<BarContainer object of 85 artists>"
      ]
     },
     "execution_count": 26,
     "metadata": {},
     "output_type": "execute_result"
    },
    {
     "data": {
      "text/plain": [
       "Text(0.5, 1.0, 'Impact of bar')"
      ]
     },
     "execution_count": 26,
     "metadata": {},
     "output_type": "execute_result"
    },
    {
     "data": {
      "text/plain": [
       "Text(0.5, 0, 'bar')"
      ]
     },
     "execution_count": 26,
     "metadata": {},
     "output_type": "execute_result"
    },
    {
     "data": {
      "text/plain": [
       "Text(0, 0.5, 'Win percent')"
      ]
     },
     "execution_count": 26,
     "metadata": {},
     "output_type": "execute_result"
    },
    {
     "data": {
      "image/png": "[encoded data removed]",
      "text/plain": [
       "<Figure size 432x288 with 1 Axes>"
      ]
     },
     "metadata": {
      "needs_background": "light"
     },
     "output_type": "display_data"
    }
   ],
   "source": [
    "ingredients = ['chocolate',\n",
    "               'fruity',\n",
    "               'caramel',\n",
    "               'peanutyalmondy',\n",
    "               'nougat',\n",
    "               'crispedricewafer',\n",
    "               'hard',\n",
    "               'bar', ]\n",
    "for item in ingredients:\n",
    "    plt.bar(candy_df[item], candy_df['winpercent'], alpha=1)\n",
    "    plt.title(\"Impact of \"+str(item))\n",
    "    plt.xlabel(str(item))\n",
    "    plt.ylabel(\"Win percent\")\n",
    "    plt.show()\n",
    "    # sns.barplot(x=candy_df[item], y=candy_df['winpercent']).set_title(\"Impact of \"+str(item))\n"
   ]
  },
  {
   "cell_type": "code",
   "execution_count": 27,
   "metadata": {},
   "outputs": [],
   "source": [
    "candy_df['choconut'] = candy_df['chocolate'] * candy_df['peanutyalmondy']"
   ]
  },
  {
   "cell_type": "code",
   "execution_count": 28,
   "metadata": {},
   "outputs": [
    {
     "data": {
      "text/plain": [
       "Text(0.5, 1.0, 'Impact of Chocolate and peanut/almond')"
      ]
     },
     "execution_count": 28,
     "metadata": {},
     "output_type": "execute_result"
    },
    {
     "data": {
      "image/png": "[encoded data removed]",
      "text/plain": [
       "<Figure size 432x288 with 1 Axes>"
      ]
     },
     "metadata": {
      "needs_background": "light"
     },
     "output_type": "display_data"
    }
   ],
   "source": [
    "sns.barplot(x = candy_df['choconut'], y = candy_df['winpercent']).set_title('Impact of Chocolate and peanut/almond')"
   ]
  },
  {
   "cell_type": "code",
   "execution_count": 29,
   "metadata": {},
   "outputs": [],
   "source": [
    "candy_df.drop('competitorname', axis = 1, inplace = True)#dropping the unique value\n",
    "candy_df.drop('sweetness', axis = 1, inplace = True)"
   ]
  },
  {
   "cell_type": "code",
   "execution_count": 30,
   "metadata": {},
   "outputs": [],
   "source": [
    "candy_df.drop('choconut', axis = 1, inplace = True)"
   ]
  },
  {
   "cell_type": "code",
   "execution_count": 31,
   "metadata": {},
   "outputs": [],
   "source": [
    "# Get all features\n",
    "features = [column_name for column_name in candy_df.columns if column_name != 'winpercent']\n",
    "\n",
    "# Get all categorical features\n",
    "categorical = [column_name for column_name in features if candy_df[column_name].dtype == 'object']\n",
    "\n",
    "# Get all numeric columns\n",
    "numeric = [column_name for column_name in features if column_name not in categorical]"
   ]
  },
  {
   "cell_type": "code",
   "execution_count": 32,
   "metadata": {},
   "outputs": [],
   "source": [
    "X = candy_df[features]\n",
    "# X = sm.add_constant(X)\n",
    "Y = candy_df['winpercent']"
   ]
  },
  {
   "cell_type": "code",
   "execution_count": 33,
   "metadata": {},
   "outputs": [],
   "source": [
    "# Import train_test_split\n",
    "from sklearn.model_selection import train_test_split\n",
    "\n",
    "# Split data into train test splits\n",
    "train_X, test_X, train_Y, test_Y = train_test_split(X, Y, test_size = 0.20, random_state=123)"
   ]
  },
  {
   "cell_type": "code",
   "execution_count": 34,
   "metadata": {},
   "outputs": [],
   "source": [
    "log_reg = sm.OLS(train_Y, train_X).fit()"
   ]
  },
  {
   "cell_type": "code",
   "execution_count": 35,
   "metadata": {},
   "outputs": [
    {
     "name": "stdout",
     "output_type": "stream",
     "text": [
      "                                 OLS Regression Results                                \n",
      "=======================================================================================\n",
      "Dep. Variable:             winpercent   R-squared (uncentered):                   0.918\n",
      "Model:                            OLS   Adj. R-squared (uncentered):              0.904\n",
      "Method:                 Least Squares   F-statistic:                              64.95\n",
      "Date:                Sat, 16 Oct 2021   Prob (F-statistic):                    9.25e-28\n",
      "Time:                        20:49:07   Log-Likelihood:                         -280.73\n",
      "No. Observations:                  68   AIC:                                      581.5\n",
      "Df Residuals:                      58   BIC:                                      603.6\n",
      "Df Model:                          10                                                  \n",
      "Covariance Type:            nonrobust                                                  \n",
      "====================================================================================\n",
      "                       coef    std err          t      P>|t|      [0.025      0.975]\n",
      "------------------------------------------------------------------------------------\n",
      "chocolate           38.8045      5.762      6.735      0.000      27.271      50.338\n",
      "fruity              33.9190      4.866      6.970      0.000      24.179      43.660\n",
      "caramel              6.0786      6.753      0.900      0.372      -7.439      19.596\n",
      "peanutyalmondy      13.4465      5.892      2.282      0.026       1.653      25.240\n",
      "nougat               3.8059      9.339      0.408      0.685     -14.888      22.499\n",
      "crispedricewafer     7.3997      8.562      0.864      0.391      -9.740      24.539\n",
      "hard                -3.0762      5.439     -0.566      0.574     -13.964       7.812\n",
      "bar                 -0.1668      7.251     -0.023      0.982     -14.682      14.348\n",
      "sugarpercent        14.3937      7.633      1.886      0.064      -0.886      29.673\n",
      "pricepercent         9.0293      8.207      1.100      0.276      -7.398      25.457\n",
      "==============================================================================\n",
      "Omnibus:                        1.142   Durbin-Watson:                   1.622\n",
      "Prob(Omnibus):                  0.565   Jarque-Bera (JB):                0.733\n",
      "Skew:                           0.248   Prob(JB):                        0.693\n",
      "Kurtosis:                       3.113   Cond. No.                         6.52\n",
      "==============================================================================\n",
      "\n",
      "Notes:\n",
      "[1] R² is computed without centering (uncentered) since the model does not contain a constant.\n",
      "[2] Standard Errors assume that the covariance matrix of the errors is correctly specified.\n"
     ]
    }
   ],
   "source": [
    "# printing the summary table\n",
    "print(log_reg.summary())"
   ]
  },
  {
   "cell_type": "code",
   "execution_count": 36,
   "metadata": {},
   "outputs": [],
   "source": [
    "from statsmodels.tools.eval_measures import rmse\n",
    "def get_RSME(model,test_X,test_Y):\n",
    "    prediction = model.predict(test_X)\n",
    "    rmse_value = rmse(test_Y, prediction)\n",
    "    print('RMSE : '+str(rmse_value))\n",
    "    return rmse_value\n"
   ]
  },
  {
   "cell_type": "code",
   "execution_count": 37,
   "metadata": {},
   "outputs": [],
   "source": [
    "#Backward Stepwise selection based on p value\n",
    "def run_model(data, features, target):\n",
    "    X = data[features]\n",
    "    Y = data[target]\n",
    "    threshold = 0.05\n",
    "    train_X, test_X, train_Y, test_Y = train_test_split(\n",
    "        X, Y, test_size=0.20, random_state=123)\n",
    "    results = sm.OLS(train_Y, train_X).fit()\n",
    "    print(results.summary())\n",
    "    get_RSME(results,test_X,test_Y)\n",
    "    pvalues = results.pvalues.iloc[1:]\n",
    "    worst_pval = pvalues.max()\n",
    "    if worst_pval > threshold:\n",
    "        worst_feature = pvalues.idxmax()\n",
    "        features.remove(worst_feature)\n",
    "        print(f\"Removing: {pvalues.idxmax()} with p-value: {str(worst_pval)}\")\n",
    "        run_model(data, features, target)\n",
    "    else:\n",
    "        print(f\"Best features are: {features}\")\n"
   ]
  },
  {
   "cell_type": "code",
   "execution_count": 38,
   "metadata": {},
   "outputs": [
    {
     "name": "stdout",
     "output_type": "stream",
     "text": [
      "                                 OLS Regression Results                                \n",
      "=======================================================================================\n",
      "Dep. Variable:             winpercent   R-squared (uncentered):                   0.918\n",
      "Model:                            OLS   Adj. R-squared (uncentered):              0.904\n",
      "Method:                 Least Squares   F-statistic:                              64.95\n",
      "Date:                Sat, 16 Oct 2021   Prob (F-statistic):                    9.25e-28\n",
      "Time:                        20:49:08   Log-Likelihood:                         -280.73\n",
      "No. Observations:                  68   AIC:                                      581.5\n",
      "Df Residuals:                      58   BIC:                                      603.6\n",
      "Df Model:                          10                                                  \n",
      "Covariance Type:            nonrobust                                                  \n",
      "====================================================================================\n",
      "                       coef    std err          t      P>|t|      [0.025      0.975]\n",
      "------------------------------------------------------------------------------------\n",
      "chocolate           38.8045      5.762      6.735      0.000      27.271      50.338\n",
      "fruity              33.9190      4.866      6.970      0.000      24.179      43.660\n",
      "caramel              6.0786      6.753      0.900      0.372      -7.439      19.596\n",
      "peanutyalmondy      13.4465      5.892      2.282      0.026       1.653      25.240\n",
      "nougat               3.8059      9.339      0.408      0.685     -14.888      22.499\n",
      "crispedricewafer     7.3997      8.562      0.864      0.391      -9.740      24.539\n",
      "hard                -3.0762      5.439     -0.566      0.574     -13.964       7.812\n",
      "bar                 -0.1668      7.251     -0.023      0.982     -14.682      14.348\n",
      "sugarpercent        14.3937      7.633      1.886      0.064      -0.886      29.673\n",
      "pricepercent         9.0293      8.207      1.100      0.276      -7.398      25.457\n",
      "==============================================================================\n",
      "Omnibus:                        1.142   Durbin-Watson:                   1.622\n",
      "Prob(Omnibus):                  0.565   Jarque-Bera (JB):                0.733\n",
      "Skew:                           0.248   Prob(JB):                        0.693\n",
      "Kurtosis:                       3.113   Cond. No.                         6.52\n",
      "==============================================================================\n",
      "\n",
      "Notes:\n",
      "[1] R² is computed without centering (uncentered) since the model does not contain a constant.\n",
      "[2] Standard Errors assume that the covariance matrix of the errors is correctly specified.\n",
      "RMSE : 10.625717895625781\n",
      "Removing: bar with p-value: 0.981730461139877\n",
      "                                 OLS Regression Results                                \n",
      "=======================================================================================\n",
      "Dep. Variable:             winpercent   R-squared (uncentered):                   0.918\n",
      "Model:                            OLS   Adj. R-squared (uncentered):              0.906\n",
      "Method:                 Least Squares   F-statistic:                              73.41\n",
      "Date:                Sat, 16 Oct 2021   Prob (F-statistic):                    1.04e-28\n",
      "Time:                        20:49:08   Log-Likelihood:                         -280.73\n",
      "No. Observations:                  68   AIC:                                      579.5\n",
      "Df Residuals:                      59   BIC:                                      599.4\n",
      "Df Model:                           9                                                  \n",
      "Covariance Type:            nonrobust                                                  \n",
      "====================================================================================\n",
      "                       coef    std err          t      P>|t|      [0.025      0.975]\n",
      "------------------------------------------------------------------------------------\n",
      "chocolate           38.7616      5.405      7.171      0.000      27.946      49.577\n",
      "fruity              33.9304      4.800      7.069      0.000      24.326      43.535\n",
      "caramel              6.0607      6.651      0.911      0.366      -7.247      19.369\n",
      "peanutyalmondy      13.4499      5.840      2.303      0.025       1.765      25.135\n",
      "nougat               3.7028      8.124      0.456      0.650     -12.554      19.960\n",
      "crispedricewafer     7.3393      8.081      0.908      0.367      -8.832      23.510\n",
      "hard                -3.0755      5.393     -0.570      0.571     -13.867       7.716\n",
      "sugarpercent        14.4189      7.490      1.925      0.059      -0.569      29.406\n",
      "pricepercent         8.9698      7.723      1.161      0.250      -6.484      24.423\n",
      "==============================================================================\n",
      "Omnibus:                        1.159   Durbin-Watson:                   1.624\n",
      "Prob(Omnibus):                  0.560   Jarque-Bera (JB):                0.749\n",
      "Skew:                           0.251   Prob(JB):                        0.688\n",
      "Kurtosis:                       3.112   Cond. No.                         5.13\n",
      "==============================================================================\n",
      "\n",
      "Notes:\n",
      "[1] R² is computed without centering (uncentered) since the model does not contain a constant.\n",
      "[2] Standard Errors assume that the covariance matrix of the errors is correctly specified.\n",
      "RMSE : 10.631495849071753\n",
      "Removing: nougat with p-value: 0.6502305771232137\n",
      "                                 OLS Regression Results                                \n",
      "=======================================================================================\n",
      "Dep. Variable:             winpercent   R-squared (uncentered):                   0.918\n",
      "Model:                            OLS   Adj. R-squared (uncentered):              0.907\n",
      "Method:                 Least Squares   F-statistic:                              83.66\n",
      "Date:                Sat, 16 Oct 2021   Prob (F-statistic):                    1.22e-29\n",
      "Time:                        20:49:08   Log-Likelihood:                         -280.85\n",
      "No. Observations:                  68   AIC:                                      577.7\n",
      "Df Residuals:                      60   BIC:                                      595.4\n",
      "Df Model:                           8                                                  \n",
      "Covariance Type:            nonrobust                                                  \n",
      "====================================================================================\n",
      "                       coef    std err          t      P>|t|      [0.025      0.975]\n",
      "------------------------------------------------------------------------------------\n",
      "chocolate           39.0390      5.335      7.317      0.000      28.367      49.711\n",
      "fruity              33.7581      4.753      7.102      0.000      24.250      43.266\n",
      "caramel              6.7253      6.446      1.043      0.301      -6.168      19.619\n",
      "peanutyalmondy      13.5426      5.797      2.336      0.023       1.946      25.139\n",
      "crispedricewafer     6.4395      7.785      0.827      0.411      -9.132      22.011\n",
      "hard                -3.1791      5.353     -0.594      0.555     -13.886       7.528\n",
      "sugarpercent        14.6603      7.422      1.975      0.053      -0.186      29.506\n",
      "pricepercent         9.1594      7.661      1.196      0.237      -6.164      24.483\n",
      "==============================================================================\n",
      "Omnibus:                        1.112   Durbin-Watson:                   1.632\n",
      "Prob(Omnibus):                  0.573   Jarque-Bera (JB):                0.777\n",
      "Skew:                           0.261   Prob(JB):                        0.678\n",
      "Kurtosis:                       3.052   Cond. No.                         4.81\n",
      "==============================================================================\n",
      "\n",
      "Notes:\n",
      "[1] R² is computed without centering (uncentered) since the model does not contain a constant.\n",
      "[2] Standard Errors assume that the covariance matrix of the errors is correctly specified.\n",
      "RMSE : 10.505900850734669\n",
      "Removing: hard with p-value: 0.5547869125176286\n",
      "                                 OLS Regression Results                                \n",
      "=======================================================================================\n",
      "Dep. Variable:             winpercent   R-squared (uncentered):                   0.917\n",
      "Model:                            OLS   Adj. R-squared (uncentered):              0.908\n",
      "Method:                 Least Squares   F-statistic:                              96.59\n",
      "Date:                Sat, 16 Oct 2021   Prob (F-statistic):                    1.42e-30\n",
      "Time:                        20:49:08   Log-Likelihood:                         -281.05\n",
      "No. Observations:                  68   AIC:                                      576.1\n",
      "Df Residuals:                      61   BIC:                                      591.6\n",
      "Df Model:                           7                                                  \n",
      "Covariance Type:            nonrobust                                                  \n",
      "====================================================================================\n",
      "                       coef    std err          t      P>|t|      [0.025      0.975]\n",
      "------------------------------------------------------------------------------------\n",
      "chocolate           39.0239      5.307      7.354      0.000      28.412      49.636\n",
      "fruity              32.7326      4.405      7.431      0.000      23.924      41.541\n",
      "caramel              6.5954      6.408      1.029      0.307      -6.218      19.409\n",
      "peanutyalmondy      13.6699      5.763      2.372      0.021       2.147      25.193\n",
      "crispedricewafer     6.6167      7.738      0.855      0.396      -8.855      22.089\n",
      "sugarpercent        13.8478      7.256      1.908      0.061      -0.661      28.357\n",
      "pricepercent         9.6614      7.573      1.276      0.207      -5.482      24.805\n",
      "==============================================================================\n",
      "Omnibus:                        0.752   Durbin-Watson:                   1.626\n",
      "Prob(Omnibus):                  0.687   Jarque-Bera (JB):                0.493\n",
      "Skew:                           0.208   Prob(JB):                        0.781\n",
      "Kurtosis:                       3.025   Cond. No.                         4.64\n",
      "==============================================================================\n",
      "\n",
      "Notes:\n",
      "[1] R² is computed without centering (uncentered) since the model does not contain a constant.\n",
      "[2] Standard Errors assume that the covariance matrix of the errors is correctly specified.\n",
      "RMSE : 10.546770318966965\n",
      "Removing: crispedricewafer with p-value: 0.39581441720999866\n",
      "                                 OLS Regression Results                                \n",
      "=======================================================================================\n",
      "Dep. Variable:             winpercent   R-squared (uncentered):                   0.916\n",
      "Model:                            OLS   Adj. R-squared (uncentered):              0.908\n",
      "Method:                 Least Squares   F-statistic:                              113.1\n",
      "Date:                Sat, 16 Oct 2021   Prob (F-statistic):                    1.82e-31\n",
      "Time:                        20:49:08   Log-Likelihood:                         -281.45\n",
      "No. Observations:                  68   AIC:                                      574.9\n",
      "Df Residuals:                      62   BIC:                                      588.2\n",
      "Df Model:                           6                                                  \n",
      "Covariance Type:            nonrobust                                                  \n",
      "==================================================================================\n",
      "                     coef    std err          t      P>|t|      [0.025      0.975]\n",
      "----------------------------------------------------------------------------------\n",
      "chocolate         40.0865      5.148      7.787      0.000      29.796      50.377\n",
      "fruity            32.4941      4.387      7.408      0.000      23.726      41.263\n",
      "caramel            8.0147      6.176      1.298      0.199      -4.330      20.360\n",
      "peanutyalmondy    12.8051      5.661      2.262      0.027       1.489      24.121\n",
      "sugarpercent      13.8407      7.240      1.912      0.061      -0.632      28.314\n",
      "pricepercent      10.1092      7.539      1.341      0.185      -4.961      25.179\n",
      "==============================================================================\n",
      "Omnibus:                        0.769   Durbin-Watson:                   1.622\n",
      "Prob(Omnibus):                  0.681   Jarque-Bera (JB):                0.522\n",
      "Skew:                           0.214   Prob(JB):                        0.770\n",
      "Kurtosis:                       3.015   Cond. No.                         4.61\n",
      "==============================================================================\n",
      "\n",
      "Notes:\n",
      "[1] R² is computed without centering (uncentered) since the model does not contain a constant.\n",
      "[2] Standard Errors assume that the covariance matrix of the errors is correctly specified.\n",
      "RMSE : 10.747106045137686\n",
      "Removing: caramel with p-value: 0.19917032726616818\n",
      "                                 OLS Regression Results                                \n",
      "=======================================================================================\n",
      "Dep. Variable:             winpercent   R-squared (uncentered):                   0.914\n",
      "Model:                            OLS   Adj. R-squared (uncentered):              0.907\n",
      "Method:                 Least Squares   F-statistic:                              133.9\n",
      "Date:                Sat, 16 Oct 2021   Prob (F-statistic):                    3.41e-32\n",
      "Time:                        20:49:08   Log-Likelihood:                         -282.36\n",
      "No. Observations:                  68   AIC:                                      574.7\n",
      "Df Residuals:                      63   BIC:                                      585.8\n",
      "Df Model:                           5                                                  \n",
      "Covariance Type:            nonrobust                                                  \n",
      "==================================================================================\n",
      "                     coef    std err          t      P>|t|      [0.025      0.975]\n",
      "----------------------------------------------------------------------------------\n",
      "chocolate         39.6664      5.166      7.679      0.000      29.343      49.989\n",
      "fruity            31.0204      4.260      7.282      0.000      22.508      39.533\n",
      "peanutyalmondy    11.9941      5.657      2.120      0.038       0.690      23.298\n",
      "sugarpercent      16.0710      7.071      2.273      0.026       1.940      30.202\n",
      "pricepercent      12.0375      7.431      1.620      0.110      -2.812      26.887\n",
      "==============================================================================\n",
      "Omnibus:                        1.137   Durbin-Watson:                   1.694\n",
      "Prob(Omnibus):                  0.566   Jarque-Bera (JB):                0.862\n",
      "Skew:                           0.276   Prob(JB):                        0.650\n",
      "Kurtosis:                       3.001   Cond. No.                         4.53\n",
      "==============================================================================\n",
      "\n",
      "Notes:\n",
      "[1] R² is computed without centering (uncentered) since the model does not contain a constant.\n",
      "[2] Standard Errors assume that the covariance matrix of the errors is correctly specified.\n",
      "RMSE : 10.939847132852101\n",
      "Removing: pricepercent with p-value: 0.11024201796298864\n",
      "                                 OLS Regression Results                                \n",
      "=======================================================================================\n",
      "Dep. Variable:             winpercent   R-squared (uncentered):                   0.910\n",
      "Model:                            OLS   Adj. R-squared (uncentered):              0.905\n",
      "Method:                 Least Squares   F-statistic:                              162.6\n",
      "Date:                Sat, 16 Oct 2021   Prob (F-statistic):                    8.98e-33\n",
      "Time:                        20:49:08   Log-Likelihood:                         -283.75\n",
      "No. Observations:                  68   AIC:                                      575.5\n",
      "Df Residuals:                      64   BIC:                                      584.4\n",
      "Df Model:                           4                                                  \n",
      "Covariance Type:            nonrobust                                                  \n",
      "==================================================================================\n",
      "                     coef    std err          t      P>|t|      [0.025      0.975]\n",
      "----------------------------------------------------------------------------------\n",
      "chocolate         43.9186      4.505      9.748      0.000      34.918      52.919\n",
      "fruity            32.9339      4.145      7.946      0.000      24.654      41.214\n",
      "peanutyalmondy    13.8005      5.616      2.457      0.017       2.582      25.019\n",
      "sugarpercent      20.9649      6.474      3.238      0.002       8.031      33.898\n",
      "==============================================================================\n",
      "Omnibus:                        3.214   Durbin-Watson:                   1.657\n",
      "Prob(Omnibus):                  0.201   Jarque-Bera (JB):                2.361\n",
      "Skew:                           0.372   Prob(JB):                        0.307\n",
      "Kurtosis:                       3.530   Cond. No.                         3.48\n",
      "==============================================================================\n",
      "\n",
      "Notes:\n",
      "[1] R² is computed without centering (uncentered) since the model does not contain a constant.\n",
      "[2] Standard Errors assume that the covariance matrix of the errors is correctly specified.\n",
      "RMSE : 11.771118836423732\n",
      "Best features are: ['chocolate', 'fruity', 'peanutyalmondy', 'sugarpercent']\n"
     ]
    }
   ],
   "source": [
    "import copy\n",
    "model_features = copy.deepcopy(features)\n",
    "run_model(candy_df,model_features,'winpercent')"
   ]
  },
  {
   "cell_type": "code",
   "execution_count": 39,
   "metadata": {},
   "outputs": [],
   "source": [
    "#Backward Stepwise selection based on RMSE\n",
    "def run_with_RMSE(data, features, target,threshold):\n",
    "    X = data[features]\n",
    "    Y = data[target]\n",
    "    train_X, test_X, train_Y, test_Y = train_test_split(\n",
    "        X, Y, test_size=0.20, random_state=123)\n",
    "    results = sm.OLS(train_Y, train_X).fit()\n",
    "    print(results.summary())\n",
    "    currentRMSE = get_RSME(results, test_X, test_Y)\n",
    "    pvalues = results.pvalues.iloc[1:]\n",
    "    worst_pval = pvalues.max()\n",
    "    if float(currentRMSE) >= float(threshold):\n",
    "        worst_feature = pvalues.idxmax()\n",
    "        features.remove(worst_feature)\n",
    "        threshold = currentRMSE\n",
    "        print(f\"Removing: {pvalues.idxmax()} with p-value: {str(worst_pval)}\")\n",
    "        run_with_RMSE(data, features, target,threshold)\n",
    "    else:\n",
    "        print(f\"Best features based on stepwise backward selection are: {features}\")\n",
    "        print(f\"Best RMSE: {currentRMSE}\")\n"
   ]
  },
  {
   "cell_type": "code",
   "execution_count": 40,
   "metadata": {},
   "outputs": [
    {
     "name": "stdout",
     "output_type": "stream",
     "text": [
      "RMSE : 10.625717895625781\n",
      "                                 OLS Regression Results                                \n",
      "=======================================================================================\n",
      "Dep. Variable:             winpercent   R-squared (uncentered):                   0.918\n",
      "Model:                            OLS   Adj. R-squared (uncentered):              0.904\n",
      "Method:                 Least Squares   F-statistic:                              64.95\n",
      "Date:                Sat, 16 Oct 2021   Prob (F-statistic):                    9.25e-28\n",
      "Time:                        20:49:08   Log-Likelihood:                         -280.73\n",
      "No. Observations:                  68   AIC:                                      581.5\n",
      "Df Residuals:                      58   BIC:                                      603.6\n",
      "Df Model:                          10                                                  \n",
      "Covariance Type:            nonrobust                                                  \n",
      "====================================================================================\n",
      "                       coef    std err          t      P>|t|      [0.025      0.975]\n",
      "------------------------------------------------------------------------------------\n",
      "chocolate           38.8045      5.762      6.735      0.000      27.271      50.338\n",
      "fruity              33.9190      4.866      6.970      0.000      24.179      43.660\n",
      "caramel              6.0786      6.753      0.900      0.372      -7.439      19.596\n",
      "peanutyalmondy      13.4465      5.892      2.282      0.026       1.653      25.240\n",
      "nougat               3.8059      9.339      0.408      0.685     -14.888      22.499\n",
      "crispedricewafer     7.3997      8.562      0.864      0.391      -9.740      24.539\n",
      "hard                -3.0762      5.439     -0.566      0.574     -13.964       7.812\n",
      "bar                 -0.1668      7.251     -0.023      0.982     -14.682      14.348\n",
      "sugarpercent        14.3937      7.633      1.886      0.064      -0.886      29.673\n",
      "pricepercent         9.0293      8.207      1.100      0.276      -7.398      25.457\n",
      "==============================================================================\n",
      "Omnibus:                        1.142   Durbin-Watson:                   1.622\n",
      "Prob(Omnibus):                  0.565   Jarque-Bera (JB):                0.733\n",
      "Skew:                           0.248   Prob(JB):                        0.693\n",
      "Kurtosis:                       3.113   Cond. No.                         6.52\n",
      "==============================================================================\n",
      "\n",
      "Notes:\n",
      "[1] R² is computed without centering (uncentered) since the model does not contain a constant.\n",
      "[2] Standard Errors assume that the covariance matrix of the errors is correctly specified.\n",
      "RMSE : 10.625717895625781\n",
      "Removing: bar with p-value: 0.981730461139877\n",
      "                                 OLS Regression Results                                \n",
      "=======================================================================================\n",
      "Dep. Variable:             winpercent   R-squared (uncentered):                   0.918\n",
      "Model:                            OLS   Adj. R-squared (uncentered):              0.906\n",
      "Method:                 Least Squares   F-statistic:                              73.41\n",
      "Date:                Sat, 16 Oct 2021   Prob (F-statistic):                    1.04e-28\n",
      "Time:                        20:49:09   Log-Likelihood:                         -280.73\n",
      "No. Observations:                  68   AIC:                                      579.5\n",
      "Df Residuals:                      59   BIC:                                      599.4\n",
      "Df Model:                           9                                                  \n",
      "Covariance Type:            nonrobust                                                  \n",
      "====================================================================================\n",
      "                       coef    std err          t      P>|t|      [0.025      0.975]\n",
      "------------------------------------------------------------------------------------\n",
      "chocolate           38.7616      5.405      7.171      0.000      27.946      49.577\n",
      "fruity              33.9304      4.800      7.069      0.000      24.326      43.535\n",
      "caramel              6.0607      6.651      0.911      0.366      -7.247      19.369\n",
      "peanutyalmondy      13.4499      5.840      2.303      0.025       1.765      25.135\n",
      "nougat               3.7028      8.124      0.456      0.650     -12.554      19.960\n",
      "crispedricewafer     7.3393      8.081      0.908      0.367      -8.832      23.510\n",
      "hard                -3.0755      5.393     -0.570      0.571     -13.867       7.716\n",
      "sugarpercent        14.4189      7.490      1.925      0.059      -0.569      29.406\n",
      "pricepercent         8.9698      7.723      1.161      0.250      -6.484      24.423\n",
      "==============================================================================\n",
      "Omnibus:                        1.159   Durbin-Watson:                   1.624\n",
      "Prob(Omnibus):                  0.560   Jarque-Bera (JB):                0.749\n",
      "Skew:                           0.251   Prob(JB):                        0.688\n",
      "Kurtosis:                       3.112   Cond. No.                         5.13\n",
      "==============================================================================\n",
      "\n",
      "Notes:\n",
      "[1] R² is computed without centering (uncentered) since the model does not contain a constant.\n",
      "[2] Standard Errors assume that the covariance matrix of the errors is correctly specified.\n",
      "RMSE : 10.631495849071753\n",
      "Removing: nougat with p-value: 0.6502305771232137\n",
      "                                 OLS Regression Results                                \n",
      "=======================================================================================\n",
      "Dep. Variable:             winpercent   R-squared (uncentered):                   0.918\n",
      "Model:                            OLS   Adj. R-squared (uncentered):              0.907\n",
      "Method:                 Least Squares   F-statistic:                              83.66\n",
      "Date:                Sat, 16 Oct 2021   Prob (F-statistic):                    1.22e-29\n",
      "Time:                        20:49:09   Log-Likelihood:                         -280.85\n",
      "No. Observations:                  68   AIC:                                      577.7\n",
      "Df Residuals:                      60   BIC:                                      595.4\n",
      "Df Model:                           8                                                  \n",
      "Covariance Type:            nonrobust                                                  \n",
      "====================================================================================\n",
      "                       coef    std err          t      P>|t|      [0.025      0.975]\n",
      "------------------------------------------------------------------------------------\n",
      "chocolate           39.0390      5.335      7.317      0.000      28.367      49.711\n",
      "fruity              33.7581      4.753      7.102      0.000      24.250      43.266\n",
      "caramel              6.7253      6.446      1.043      0.301      -6.168      19.619\n",
      "peanutyalmondy      13.5426      5.797      2.336      0.023       1.946      25.139\n",
      "crispedricewafer     6.4395      7.785      0.827      0.411      -9.132      22.011\n",
      "hard                -3.1791      5.353     -0.594      0.555     -13.886       7.528\n",
      "sugarpercent        14.6603      7.422      1.975      0.053      -0.186      29.506\n",
      "pricepercent         9.1594      7.661      1.196      0.237      -6.164      24.483\n",
      "==============================================================================\n",
      "Omnibus:                        1.112   Durbin-Watson:                   1.632\n",
      "Prob(Omnibus):                  0.573   Jarque-Bera (JB):                0.777\n",
      "Skew:                           0.261   Prob(JB):                        0.678\n",
      "Kurtosis:                       3.052   Cond. No.                         4.81\n",
      "==============================================================================\n",
      "\n",
      "Notes:\n",
      "[1] R² is computed without centering (uncentered) since the model does not contain a constant.\n",
      "[2] Standard Errors assume that the covariance matrix of the errors is correctly specified.\n",
      "RMSE : 10.505900850734669\n",
      "Best features based on stepwise backward selection are: ['chocolate', 'fruity', 'caramel', 'peanutyalmondy', 'crispedricewafer', 'hard', 'sugarpercent', 'pricepercent']\n",
      "Best RMSE: 10.505900850734669\n"
     ]
    }
   ],
   "source": [
    "model_features = copy.deepcopy(features)\n",
    "run_with_RMSE(candy_df,model_features,'winpercent',get_RSME(log_reg,test_X,test_Y))"
   ]
  },
  {
   "cell_type": "code",
   "execution_count": 41,
   "metadata": {},
   "outputs": [
    {
     "data": {
      "text/plain": [
       "0     66.971725\n",
       "1     67.602936\n",
       "2     32.261086\n",
       "3     46.116505\n",
       "4     52.341465\n",
       "        ...    \n",
       "80    45.466282\n",
       "81    39.011898\n",
       "82    44.375519\n",
       "83    41.904308\n",
       "84    49.524113\n",
       "Name: winpercent, Length: 85, dtype: float64"
      ]
     },
     "execution_count": 41,
     "metadata": {},
     "output_type": "execute_result"
    },
    {
     "data": {
      "text/plain": [
       "DecisionTreeRegressor(max_depth=3)"
      ]
     },
     "execution_count": 41,
     "metadata": {},
     "output_type": "execute_result"
    },
    {
     "name": "stdout",
     "output_type": "stream",
     "text": [
      "0:00:00.005758\n"
     ]
    }
   ],
   "source": [
    "#complex model\n",
    "x = candy_df[features]\n",
    "y = candy_df['winpercent']\n",
    "y\n",
    "train_x, test_x, train_y, test_y = train_test_split(x, y, test_size = 0.20, random_state=123)\n",
    "\n",
    "import datetime\n",
    "from sklearn.tree import DecisionTreeRegressor\n",
    "begin_time = datetime.datetime.now()\n",
    "treemodel =DecisionTreeRegressor(max_depth=3)\n",
    "treemodel.fit(train_x, train_y)\n",
    "print(datetime.datetime.now() - begin_time)"
   ]
  },
  {
   "cell_type": "code",
   "execution_count": 42,
   "metadata": {},
   "outputs": [
    {
     "data": {
      "text/plain": [
       "<Figure size 1800x1440 with 0 Axes>"
      ]
     },
     "execution_count": 42,
     "metadata": {},
     "output_type": "execute_result"
    },
    {
     "data": {
      "image/png": "[encoded data removed]",
      "text/plain": [
       "<Figure size 1800x1440 with 1 Axes>"
      ]
     },
     "metadata": {
      "needs_background": "light"
     },
     "output_type": "display_data"
    }
   ],
   "source": [
    "from sklearn import tree\n",
    "plt.figure(figsize=(25,20))\n",
    "plot=tree.plot_tree(treemodel, feature_names=x.columns.values.tolist(),class_names=['0','1'], filled=True, rounded=True,fontsize=14)"
   ]
  },
  {
   "cell_type": "code",
   "execution_count": 43,
   "metadata": {},
   "outputs": [],
   "source": [
    "# Feature Scaling\n",
    "from sklearn.preprocessing import StandardScaler\n",
    "\n",
    "sc = StandardScaler()\n",
    "train_x = sc.fit_transform(train_x)\n",
    "test_x = sc.transform(test_x)"
   ]
  },
  {
   "cell_type": "code",
   "execution_count": 45,
   "metadata": {},
   "outputs": [
    {
     "name": "stdout",
     "output_type": "stream",
     "text": [
      "0:00:00.015907\n"
     ]
    }
   ],
   "source": [
    "from sklearn.ensemble import RandomForestRegressor\n",
    "begin_time = datetime.datetime.now()\n",
    "rfclass=RandomForestRegressor(n_estimators=10,random_state=0)\n",
    "res= rfclass.fit(train_x, train_y)\n",
    "rfypred=rfclass.predict(test_x)\n",
    "print(datetime.datetime.now() - begin_time)"
   ]
  },
  {
   "cell_type": "code",
   "execution_count": 51,
   "metadata": {},
   "outputs": [
    {
     "name": "stdout",
     "output_type": "stream",
     "text": [
      "Feature: 0, Score: 0.30450\n",
      "Feature: 1, Score: 0.01800\n",
      "Feature: 2, Score: 0.02833\n",
      "Feature: 3, Score: 0.06040\n",
      "Feature: 4, Score: 0.00425\n",
      "Feature: 5, Score: 0.05139\n",
      "Feature: 6, Score: 0.03457\n",
      "Feature: 7, Score: 0.04384\n",
      "Feature: 8, Score: 0.23313\n",
      "Feature: 9, Score: 0.22159\n"
     ]
    },
    {
     "data": {
      "text/plain": [
       "<BarContainer object of 10 artists>"
      ]
     },
     "execution_count": 51,
     "metadata": {},
     "output_type": "execute_result"
    },
    {
     "data": {
      "image/png": "[encoded data removed]",
      "text/plain": [
       "<Figure size 432x288 with 1 Axes>"
      ]
     },
     "metadata": {
      "needs_background": "light"
     },
     "output_type": "display_data"
    }
   ],
   "source": [
    "import matplotlib.pyplot as plt1\n",
    "importance = rfclass.feature_importances_\n",
    "# summarize feature importance\n",
    "for i,v in enumerate(importance):\n",
    "\tprint('Feature: %0d, Score: %.5f' % (i,v))\n",
    "# plot feature importance\n",
    "plt1.bar([x for x in range(len(importance))], importance)\n",
    "plt1.show()"
   ]
  },
  {
   "cell_type": "code",
   "execution_count": null,
   "metadata": {},
   "outputs": [],
   "source": []
  }
 ],
 "metadata": {
  "interpreter": {
   "hash": "2761b3ee97f772d6fb8dd57423fe5910db3b6684141fbb17fb5e9ca3695a123f"
  },
  "kernelspec": {
   "display_name": "Python 3",
   "language": "python",
   "name": "python3"
  },
  "language_info": {
   "codemirror_mode": {
    "name": "ipython",
    "version": 3
   },
   "file_extension": ".py",
   "mimetype": "text/x-python",
   "name": "python",
   "nbconvert_exporter": "python",
   "pygments_lexer": "ipython3",
   "version": "3.8.8"
  }
 },
 "nbformat": 4,
 "nbformat_minor": 2
}
